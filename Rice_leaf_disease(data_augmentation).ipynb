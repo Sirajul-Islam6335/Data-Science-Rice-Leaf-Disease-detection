{
 "cells": [
  {
   "cell_type": "markdown",
   "id": "c4e0c112",
   "metadata": {},
   "source": [
    "# Rice Leaf Disease Detection"
   ]
  },
  {
   "cell_type": "markdown",
   "id": "b7e9360c",
   "metadata": {},
   "source": [
    " ## I have divide the project into multiple steps\n",
    " * Importing Libraries\n",
    " * Data Augmentation & Split data Train,Test set\n",
    " * Model Building\n",
    " * Model Evaluate \n",
    " * Make Prediction\n",
    " * Model classification Report \n",
    " * Single image Prediction"
   ]
  },
  {
   "cell_type": "markdown",
   "id": "82867dcf",
   "metadata": {},
   "source": [
    "# Importing the Librairies"
   ]
  },
  {
   "cell_type": "code",
   "execution_count": 1,
   "id": "b306d857",
   "metadata": {},
   "outputs": [],
   "source": [
    "import numpy as np \n",
    "import pandas as pd \n",
    "import matplotlib.pyplot as plt\n",
    "from keras_preprocessing.image import ImageDataGenerator, load_img, img_to_array\n",
    "import tensorflow as tf\n",
    "from tensorflow import keras\n",
    "from tensorflow.keras import layers\n",
    "from tensorflow.keras.models import Sequential\n",
    "from tensorflow.keras.layers import Dense\n",
    "from keras.layers import Conv2D, Flatten, MaxPooling2D,Dropout,BatchNormalization\n",
    "from keras.callbacks import ModelCheckpoint"
   ]
  },
  {
   "cell_type": "markdown",
   "id": "d91ca607",
   "metadata": {},
   "source": [
    "\n",
    "# Data Augmentation & Split data Train,Test set"
   ]
  },
  {
   "cell_type": "code",
   "execution_count": 2,
   "id": "4ec7a22c",
   "metadata": {},
   "outputs": [
    {
     "name": "stdout",
     "output_type": "stream",
     "text": [
      "Found 96 images belonging to 3 classes.\n",
      "Found 23 images belonging to 3 classes.\n",
      "{'Bacterial leaf blight': 0, 'Brown spot': 1, 'Leaf smut': 2}\n",
      "{0: 'Bacterial leaf blight', 1: 'Brown spot', 2: 'Leaf smut'}\n"
     ]
    }
   ],
   "source": [
    "datagen=ImageDataGenerator(horizontal_flip=True,\n",
    "                         vertical_flip=True,\n",
    "                         validation_split=0.2,\n",
    "                         rescale=1./255,\n",
    "                         shear_range = 0.1,\n",
    "                         zoom_range = 0.1,\n",
    "                         width_shift_range = 0.1,\n",
    "                         height_shift_range = 0.1,)\n",
    "test_datagen=ImageDataGenerator(rescale=1/255,\n",
    "                        validation_split=0.2)\n",
    "train_set=datagen.flow_from_directory(\"mydata\",\n",
    "                                      target_size=(64,64),\n",
    "                                      batch_size=32,\n",
    "                                      subset='training',seed=42)\n",
    "test_set=test_datagen.flow_from_directory(\"mydata\",\n",
    "                                        target_size=(64,64),\n",
    "                                        batch_size=32,\n",
    "                                        subset='validation',seed=42)\n",
    "labels = (train_set.class_indices)\n",
    "print(labels)\n",
    "\n",
    "labels = dict((v,k) for k,v in labels.items())\n",
    "print(labels)"
   ]
  },
  {
   "cell_type": "markdown",
   "id": "117a7abb",
   "metadata": {},
   "source": [
    "# Model Building"
   ]
  },
  {
   "cell_type": "code",
   "execution_count": 6,
   "id": "1e7c7ab7",
   "metadata": {},
   "outputs": [
    {
     "name": "stdout",
     "output_type": "stream",
     "text": [
      "Model: \"sequential_1\"\n",
      "_________________________________________________________________\n",
      " Layer (type)                Output Shape              Param #   \n",
      "=================================================================\n",
      " conv2d_3 (Conv2D)           (None, 64, 64, 32)        1568      \n",
      "                                                                 \n",
      " max_pooling2d_2 (MaxPooling  (None, 32, 32, 32)       0         \n",
      " 2D)                                                             \n",
      "                                                                 \n",
      " batch_normalization_3 (Batc  (None, 32, 32, 32)       128       \n",
      " hNormalization)                                                 \n",
      "                                                                 \n",
      " conv2d_4 (Conv2D)           (None, 32, 32, 64)        32832     \n",
      "                                                                 \n",
      " max_pooling2d_3 (MaxPooling  (None, 16, 16, 64)       0         \n",
      " 2D)                                                             \n",
      "                                                                 \n",
      " batch_normalization_4 (Batc  (None, 16, 16, 64)       256       \n",
      " hNormalization)                                                 \n",
      "                                                                 \n",
      " conv2d_5 (Conv2D)           (None, 16, 16, 32)        32800     \n",
      "                                                                 \n",
      " batch_normalization_5 (Batc  (None, 16, 16, 32)       128       \n",
      " hNormalization)                                                 \n",
      "                                                                 \n",
      " flatten_1 (Flatten)         (None, 8192)              0         \n",
      "                                                                 \n",
      " dense_3 (Dense)             (None, 100)               819300    \n",
      "                                                                 \n",
      " dropout_2 (Dropout)         (None, 100)               0         \n",
      "                                                                 \n",
      " dense_4 (Dense)             (None, 50)                5050      \n",
      "                                                                 \n",
      " dropout_3 (Dropout)         (None, 50)                0         \n",
      "                                                                 \n",
      " dense_5 (Dense)             (None, 3)                 153       \n",
      "                                                                 \n",
      "=================================================================\n",
      "Total params: 892,215\n",
      "Trainable params: 891,959\n",
      "Non-trainable params: 256\n",
      "_________________________________________________________________\n"
     ]
    }
   ],
   "source": [
    "model=Sequential()\n",
    "\n",
    "#Convulation layer\n",
    "\n",
    "model.add(Conv2D(32,(4,4), padding='same',input_shape=(64,64,3),activation='relu'))\n",
    "model.add(MaxPooling2D(pool_size=(2,2))) \n",
    "model.add(BatchNormalization())\n",
    "\n",
    "model.add(Conv2D(64,(4,4), padding='same',activation='relu'))\n",
    "model.add(MaxPooling2D(pool_size=(2,2)))\n",
    "model.add(BatchNormalization())\n",
    "\n",
    "model.add(Conv2D(32,(4,4), padding='same',activation='relu'))\n",
    "model.add(BatchNormalization())\n",
    "\n",
    "#Covers\n",
    "model.add(Flatten())\n",
    "model.add(Dense(100,activation='relu'))\n",
    "model.add(Dropout(0.1))\n",
    "model.add(Dense(50,activation='relu'))\n",
    "model.add(Dropout(0.1))\n",
    "model.add(Dense(3,activation='softmax'))\n",
    "\n",
    "#Checkpoint\n",
    "filepath=\"trained_model.h6\"\n",
    "checkpoint = ModelCheckpoint(filepath, monitor='val_accuracy', verbose=1, save_best_only=True, mode='max')\n",
    "callbacks_list = [checkpoint]\n",
    "\n",
    "\n",
    "model.summary()"
   ]
  },
  {
   "cell_type": "code",
   "execution_count": 7,
   "id": "accab853",
   "metadata": {},
   "outputs": [],
   "source": [
    "model.compile(loss='categorical_crossentropy',\n",
    "              optimizer='adam',\n",
    "              metrics=['accuracy'])"
   ]
  },
  {
   "cell_type": "code",
   "execution_count": 8,
   "id": "659fe4ae",
   "metadata": {},
   "outputs": [
    {
     "name": "stdout",
     "output_type": "stream",
     "text": [
      "Epoch 1/30\n",
      "59/59 [==============================] - ETA: 0s - loss: 0.7680 - accuracy: 0.6743\n",
      "Epoch 00001: val_accuracy improved from -inf to 0.34783, saving model to trained_model.h6\n",
      "INFO:tensorflow:Assets written to: trained_model.h6\\assets\n",
      "59/59 [==============================] - 82s 1s/step - loss: 0.7680 - accuracy: 0.6743 - val_loss: 1.6117 - val_accuracy: 0.3478\n",
      "Epoch 2/30\n",
      "59/59 [==============================] - ETA: 0s - loss: 0.3594 - accuracy: 0.8512\n",
      "Epoch 00002: val_accuracy did not improve from 0.34783\n",
      "59/59 [==============================] - 77s 1s/step - loss: 0.3594 - accuracy: 0.8512 - val_loss: 2.9945 - val_accuracy: 0.2174\n",
      "Epoch 3/30\n",
      "59/59 [==============================] - ETA: 0s - loss: 0.2692 - accuracy: 0.8967\n",
      "Epoch 00003: val_accuracy did not improve from 0.34783\n",
      "59/59 [==============================] - 76s 1s/step - loss: 0.2692 - accuracy: 0.8967 - val_loss: 4.4059 - val_accuracy: 0.3478\n",
      "Epoch 4/30\n",
      "59/59 [==============================] - ETA: 0s - loss: 0.2643 - accuracy: 0.9020\n",
      "Epoch 00004: val_accuracy did not improve from 0.34783\n",
      "59/59 [==============================] - 76s 1s/step - loss: 0.2643 - accuracy: 0.9020 - val_loss: 6.9659 - val_accuracy: 0.3043\n",
      "Epoch 5/30\n",
      "59/59 [==============================] - ETA: 0s - loss: 0.2122 - accuracy: 0.9084\n",
      "Epoch 00005: val_accuracy did not improve from 0.34783\n",
      "59/59 [==============================] - 76s 1s/step - loss: 0.2122 - accuracy: 0.9084 - val_loss: 6.6463 - val_accuracy: 0.0870\n",
      "Epoch 6/30\n",
      "59/59 [==============================] - ETA: 0s - loss: 0.1495 - accuracy: 0.9412\n",
      "Epoch 00006: val_accuracy did not improve from 0.34783\n",
      "59/59 [==============================] - 76s 1s/step - loss: 0.1495 - accuracy: 0.9412 - val_loss: 8.1065 - val_accuracy: 0.3043\n",
      "Epoch 7/30\n",
      "59/59 [==============================] - ETA: 0s - loss: 0.1236 - accuracy: 0.9502\n",
      "Epoch 00007: val_accuracy did not improve from 0.34783\n",
      "59/59 [==============================] - 76s 1s/step - loss: 0.1236 - accuracy: 0.9502 - val_loss: 8.0804 - val_accuracy: 0.0435\n",
      "Epoch 8/30\n",
      "59/59 [==============================] - ETA: 0s - loss: 0.1210 - accuracy: 0.9587\n",
      "Epoch 00008: val_accuracy did not improve from 0.34783\n",
      "59/59 [==============================] - 77s 1s/step - loss: 0.1210 - accuracy: 0.9587 - val_loss: 7.6577 - val_accuracy: 0.0870\n",
      "Epoch 9/30\n",
      "59/59 [==============================] - ETA: 0s - loss: 0.1417 - accuracy: 0.9486\n",
      "Epoch 00009: val_accuracy improved from 0.34783 to 0.65217, saving model to trained_model.h6\n",
      "INFO:tensorflow:Assets written to: trained_model.h6\\assets\n",
      "59/59 [==============================] - 78s 1s/step - loss: 0.1417 - accuracy: 0.9486 - val_loss: 1.8592 - val_accuracy: 0.6522\n",
      "Epoch 10/30\n",
      "59/59 [==============================] - ETA: 0s - loss: 0.1798 - accuracy: 0.9359\n",
      "Epoch 00010: val_accuracy improved from 0.65217 to 0.73913, saving model to trained_model.h6\n",
      "INFO:tensorflow:Assets written to: trained_model.h6\\assets\n",
      "59/59 [==============================] - 79s 1s/step - loss: 0.1798 - accuracy: 0.9359 - val_loss: 0.7012 - val_accuracy: 0.7391\n",
      "Epoch 11/30\n",
      "59/59 [==============================] - ETA: 0s - loss: 0.2028 - accuracy: 0.9333\n",
      "Epoch 00011: val_accuracy did not improve from 0.73913\n",
      "59/59 [==============================] - 77s 1s/step - loss: 0.2028 - accuracy: 0.9333 - val_loss: 2.7726 - val_accuracy: 0.5652\n",
      "Epoch 12/30\n",
      "59/59 [==============================] - ETA: 0s - loss: 0.0922 - accuracy: 0.9608\n",
      "Epoch 00012: val_accuracy did not improve from 0.73913\n",
      "59/59 [==============================] - 77s 1s/step - loss: 0.0922 - accuracy: 0.9608 - val_loss: 1.7256 - val_accuracy: 0.7391\n",
      "Epoch 13/30\n",
      "59/59 [==============================] - ETA: 0s - loss: 0.0837 - accuracy: 0.9703\n",
      "Epoch 00013: val_accuracy improved from 0.73913 to 0.82609, saving model to trained_model.h6\n",
      "INFO:tensorflow:Assets written to: trained_model.h6\\assets\n",
      "59/59 [==============================] - 79s 1s/step - loss: 0.0837 - accuracy: 0.9703 - val_loss: 0.9827 - val_accuracy: 0.8261\n",
      "Epoch 14/30\n",
      "59/59 [==============================] - ETA: 0s - loss: 0.0662 - accuracy: 0.9788\n",
      "Epoch 00014: val_accuracy did not improve from 0.82609\n",
      "59/59 [==============================] - 76s 1s/step - loss: 0.0662 - accuracy: 0.9788 - val_loss: 1.6438 - val_accuracy: 0.6957\n",
      "Epoch 15/30\n",
      "59/59 [==============================] - ETA: 0s - loss: 0.0580 - accuracy: 0.9809\n",
      "Epoch 00015: val_accuracy did not improve from 0.82609\n",
      "59/59 [==============================] - 76s 1s/step - loss: 0.0580 - accuracy: 0.9809 - val_loss: 0.9937 - val_accuracy: 0.6087\n",
      "Epoch 16/30\n",
      "59/59 [==============================] - ETA: 0s - loss: 0.0738 - accuracy: 0.9751\n",
      "Epoch 00016: val_accuracy did not improve from 0.82609\n",
      "59/59 [==============================] - 76s 1s/step - loss: 0.0738 - accuracy: 0.9751 - val_loss: 11.9221 - val_accuracy: 0.7391\n",
      "Epoch 17/30\n",
      "59/59 [==============================] - ETA: 0s - loss: 0.0869 - accuracy: 0.9709\n",
      "Epoch 00017: val_accuracy improved from 0.82609 to 0.95652, saving model to trained_model.h6\n",
      "INFO:tensorflow:Assets written to: trained_model.h6\\assets\n",
      "59/59 [==============================] - 80s 1s/step - loss: 0.0869 - accuracy: 0.9709 - val_loss: 0.1384 - val_accuracy: 0.9565\n",
      "Epoch 18/30\n",
      "59/59 [==============================] - ETA: 0s - loss: 0.0755 - accuracy: 0.9714\n",
      "Epoch 00018: val_accuracy did not improve from 0.95652\n",
      "59/59 [==============================] - 77s 1s/step - loss: 0.0755 - accuracy: 0.9714 - val_loss: 61.1189 - val_accuracy: 0.3478\n",
      "Epoch 19/30\n",
      "59/59 [==============================] - ETA: 0s - loss: 0.0805 - accuracy: 0.9730\n",
      "Epoch 00019: val_accuracy did not improve from 0.95652\n",
      "59/59 [==============================] - 77s 1s/step - loss: 0.0805 - accuracy: 0.9730 - val_loss: 0.1237 - val_accuracy: 0.9565\n",
      "Epoch 20/30\n",
      "59/59 [==============================] - ETA: 0s - loss: 0.0289 - accuracy: 0.9894\n",
      "Epoch 00020: val_accuracy did not improve from 0.95652\n",
      "59/59 [==============================] - 77s 1s/step - loss: 0.0289 - accuracy: 0.9894 - val_loss: 0.8554 - val_accuracy: 0.7826\n",
      "Epoch 21/30\n",
      "59/59 [==============================] - ETA: 0s - loss: 0.0716 - accuracy: 0.9783\n",
      "Epoch 00021: val_accuracy improved from 0.95652 to 1.00000, saving model to trained_model.h6\n",
      "INFO:tensorflow:Assets written to: trained_model.h6\\assets\n",
      "59/59 [==============================] - 79s 1s/step - loss: 0.0716 - accuracy: 0.9783 - val_loss: 0.0204 - val_accuracy: 1.0000\n",
      "Epoch 22/30\n",
      "59/59 [==============================] - ETA: 0s - loss: 0.0711 - accuracy: 0.9793\n",
      "Epoch 00022: val_accuracy did not improve from 1.00000\n",
      "59/59 [==============================] - 77s 1s/step - loss: 0.0711 - accuracy: 0.9793 - val_loss: 27.5957 - val_accuracy: 0.4348\n",
      "Epoch 23/30\n",
      "59/59 [==============================] - ETA: 0s - loss: 0.0567 - accuracy: 0.9799\n",
      "Epoch 00023: val_accuracy did not improve from 1.00000\n",
      "59/59 [==============================] - 77s 1s/step - loss: 0.0567 - accuracy: 0.9799 - val_loss: 2.1523 - val_accuracy: 0.6957\n",
      "Epoch 24/30\n",
      "59/59 [==============================] - ETA: 0s - loss: 0.0500 - accuracy: 0.9815\n",
      "Epoch 00024: val_accuracy did not improve from 1.00000\n",
      "59/59 [==============================] - 77s 1s/step - loss: 0.0500 - accuracy: 0.9815 - val_loss: 1.7227 - val_accuracy: 0.9565\n",
      "Epoch 25/30\n",
      "59/59 [==============================] - ETA: 0s - loss: 0.0965 - accuracy: 0.9735\n",
      "Epoch 00025: val_accuracy did not improve from 1.00000\n",
      "59/59 [==============================] - 77s 1s/step - loss: 0.0965 - accuracy: 0.9735 - val_loss: 2.2490 - val_accuracy: 0.6957\n",
      "Epoch 26/30\n",
      "59/59 [==============================] - ETA: 0s - loss: 0.0385 - accuracy: 0.9883\n",
      "Epoch 00026: val_accuracy did not improve from 1.00000\n",
      "59/59 [==============================] - 79s 1s/step - loss: 0.0385 - accuracy: 0.9883 - val_loss: 0.0121 - val_accuracy: 1.0000\n",
      "Epoch 27/30\n",
      "59/59 [==============================] - ETA: 0s - loss: 0.0281 - accuracy: 0.9926\n",
      "Epoch 00027: val_accuracy did not improve from 1.00000\n",
      "59/59 [==============================] - 77s 1s/step - loss: 0.0281 - accuracy: 0.9926 - val_loss: 0.8257 - val_accuracy: 0.7826\n",
      "Epoch 28/30\n",
      "59/59 [==============================] - ETA: 0s - loss: 0.0309 - accuracy: 0.9899\n",
      "Epoch 00028: val_accuracy did not improve from 1.00000\n",
      "59/59 [==============================] - 76s 1s/step - loss: 0.0309 - accuracy: 0.9899 - val_loss: 0.4828 - val_accuracy: 0.8696\n",
      "Epoch 29/30\n",
      "59/59 [==============================] - ETA: 0s - loss: 0.0217 - accuracy: 0.9915\n",
      "Epoch 00029: val_accuracy did not improve from 1.00000\n",
      "59/59 [==============================] - 76s 1s/step - loss: 0.0217 - accuracy: 0.9915 - val_loss: 1.6062 - val_accuracy: 0.6522\n",
      "Epoch 30/30\n",
      "59/59 [==============================] - ETA: 0s - loss: 0.0174 - accuracy: 0.9947\n",
      "Epoch 00030: val_accuracy did not improve from 1.00000\n",
      "59/59 [==============================] - 77s 1s/step - loss: 0.0174 - accuracy: 0.9947 - val_loss: 0.3864 - val_accuracy: 0.8696\n"
     ]
    }
   ],
   "source": [
    "history = model.fit(train_set,\n",
    "                    epochs=30,\n",
    "                    steps_per_epoch=1900//32,\n",
    "                    validation_data=test_set,\n",
    "                    validation_steps=502//16,\n",
    "                    workers = 4,\n",
    "                    callbacks=callbacks_list) "
   ]
  },
  {
   "cell_type": "markdown",
   "id": "d86c3482",
   "metadata": {},
   "source": [
    "# Model evaluate"
   ]
  },
  {
   "cell_type": "code",
   "execution_count": 9,
   "id": "2041df31",
   "metadata": {},
   "outputs": [
    {
     "data": {
      "text/plain": [
       "dict_keys(['loss', 'accuracy', 'val_loss', 'val_accuracy'])"
      ]
     },
     "execution_count": 9,
     "metadata": {},
     "output_type": "execute_result"
    }
   ],
   "source": [
    "history.history.keys()"
   ]
  },
  {
   "cell_type": "code",
   "execution_count": 28,
   "id": "ae48c2bb",
   "metadata": {},
   "outputs": [
    {
     "name": "stdout",
     "output_type": "stream",
     "text": [
      "validation loss: 0.020420538261532784\n",
      "validation accuracy 1.0\n"
     ]
    }
   ],
   "source": [
    "from keras.models import load_model\n",
    "model = load_model(\"trained_model.h6\")\n",
    "score = model.evaluate(test_set, verbose=0)\n",
    "print(\"validation loss:\" , score[0])\n",
    "print(\"validation accuracy\", score[1])"
   ]
  },
  {
   "cell_type": "code",
   "execution_count": 29,
   "id": "7bd8bf82",
   "metadata": {},
   "outputs": [
    {
     "data": {
      "image/png": "[encoded data removed]",
      "text/plain": [
       "<Figure size 432x288 with 1 Axes>"
      ]
     },
     "metadata": {
      "needs_background": "light"
     },
     "output_type": "display_data"
    },
    {
     "data": {
      "image/png": "[encoded data removed]",
      "text/plain": [
       "<Figure size 432x288 with 1 Axes>"
      ]
     },
     "metadata": {
      "needs_background": "light"
     },
     "output_type": "display_data"
    }
   ],
   "source": [
    "def line_plot(series, legends, title, ylabel, xlabel):\n",
    "    for s in series:\n",
    "        plt.plot(s)\n",
    "    plt.title(title)\n",
    "    plt.ylabel(ylabel)\n",
    "    plt.xlabel(xlabel)\n",
    "    plt.legend(legends, loc='upper left')\n",
    "    #plt.ylim([0, 1.1])\n",
    "    plt.show()\n",
    "\n",
    "    \n",
    "line_plot(\n",
    "    [history.history['accuracy'], history.history['val_accuracy']],\n",
    "    ['train', 'test'],\n",
    "    'model accuracy',\n",
    "    'acc',\n",
    "    'epoch'\n",
    ")\n",
    "\n",
    "line_plot(\n",
    "    [history.history['loss'], history.history['val_loss']],\n",
    "    ['train', 'test'],\n",
    "    'model loss',\n",
    "    'loss',\n",
    "    'epoch'\n",
    ")"
   ]
  },
  {
   "cell_type": "markdown",
   "id": "1e25322e",
   "metadata": {},
   "source": [
    "# Make predictions"
   ]
  },
  {
   "cell_type": "code",
   "execution_count": 20,
   "id": "3a6ac71a",
   "metadata": {},
   "outputs": [
    {
     "data": {
      "text/plain": [
       "array([1, 1, 0, 1, 0, 0, 1, 2, 2, 0, 0, 0, 1, 1, 2, 1, 1, 2, 2, 0, 2, 2,\n",
       "       0], dtype=int64)"
      ]
     },
     "execution_count": 20,
     "metadata": {},
     "output_type": "execute_result"
    }
   ],
   "source": [
    "test_steps_per_epoch = np.math.ceil(test_set.samples / test_set.batch_size)\n",
    "\n",
    "predictions = model.predict(test_set, steps=test_steps_per_epoch)\n",
    "# Get most likely class\n",
    "predicted_classes1 = np.argmax(predictions, axis=1)\n",
    "predicted_classes1"
   ]
  },
  {
   "cell_type": "markdown",
   "id": "345c9912",
   "metadata": {},
   "source": [
    "# Model Classification report"
   ]
  },
  {
   "cell_type": "code",
   "execution_count": 21,
   "id": "9e81d3c1",
   "metadata": {},
   "outputs": [
    {
     "name": "stdout",
     "output_type": "stream",
     "text": [
      "                       precision    recall  f1-score   support\n",
      "\n",
      "Bacterial leaf blight       0.38      0.38      0.38         8\n",
      "           Brown spot       0.38      0.38      0.38         8\n",
      "            Leaf smut       0.57      0.57      0.57         7\n",
      "\n",
      "             accuracy                           0.43        23\n",
      "            macro avg       0.44      0.44      0.44        23\n",
      "         weighted avg       0.43      0.43      0.43        23\n",
      "\n"
     ]
    }
   ],
   "source": [
    "from sklearn import metrics\n",
    "true_classes = test_set.classes\n",
    "class_labels = list(test_set.class_indices.keys()) \n",
    "report = metrics.classification_report(true_classes, predicted_classes1, target_names=class_labels)\n",
    "print(report)\n"
   ]
  },
  {
   "cell_type": "markdown",
   "id": "03eb8a7f",
   "metadata": {},
   "source": [
    "# Single image prediction"
   ]
  },
  {
   "cell_type": "code",
   "execution_count": 22,
   "id": "7a05712f",
   "metadata": {},
   "outputs": [],
   "source": [
    "def prediction(path):\n",
    "    img = load_img(path, target_size=(64,64))\n",
    "    i = img_to_array(img)\n",
    "    im = i/255\n",
    "    img = np.expand_dims(im, axis=0)\n",
    "    pred = np.argmax(model.predict(img))\n",
    "    \n",
    "    \n",
    "    print(f\"Label of prediction classs: {pred}\")\n",
    "    print(f\"The image belogns to {labels[pred]} class\")"
   ]
  },
  {
   "cell_type": "code",
   "execution_count": 23,
   "id": "989d8aab",
   "metadata": {},
   "outputs": [
    {
     "name": "stdout",
     "output_type": "stream",
     "text": [
      "Label of prediction classs: 0\n",
      "The image belogns to Bacterial leaf blight class\n"
     ]
    }
   ],
   "source": [
    "path =\"Bactorial_leaf_blight.jpg\"\n",
    "prediction(path)"
   ]
  },
  {
   "cell_type": "code",
   "execution_count": 24,
   "id": "c4c14182",
   "metadata": {},
   "outputs": [
    {
     "name": "stdout",
     "output_type": "stream",
     "text": [
      "Label of prediction classs: 1\n",
      "The image belogns to Brown spot class\n"
     ]
    }
   ],
   "source": [
    "path =\"brown_spot.jpg\"\n",
    "prediction(path)"
   ]
  },
  {
   "cell_type": "code",
   "execution_count": 25,
   "id": "575d1863",
   "metadata": {},
   "outputs": [
    {
     "name": "stdout",
     "output_type": "stream",
     "text": [
      "Label of prediction classs: 2\n",
      "The image belogns to Leaf smut class\n"
     ]
    }
   ],
   "source": [
    "path =\"leaf_smut.jpg\"\n",
    "prediction(path)"
   ]
  },
  {
   "cell_type": "code",
   "execution_count": null,
   "id": "bef6691e",
   "metadata": {},
   "outputs": [],
   "source": []
  }
 ],
 "metadata": {
  "kernelspec": {
   "display_name": "Python 3",
   "language": "python",
   "name": "python3"
  },
  "language_info": {
   "codemirror_mode": {
    "name": "ipython",
    "version": 3
   },
   "file_extension": ".py",
   "mimetype": "text/x-python",
   "name": "python",
   "nbconvert_exporter": "python",
   "pygments_lexer": "ipython3",
   "version": "3.8.8"
  }
 },
 "nbformat": 4,
 "nbformat_minor": 5
}
